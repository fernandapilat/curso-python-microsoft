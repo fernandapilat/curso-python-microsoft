{
  "nbformat": 4,
  "nbformat_minor": 0,
  "metadata": {
    "colab": {
      "provenance": [],
      "authorship_tag": "ABX9TyMn4CgzoNMXQC2MbZ2sqhkA",
      "include_colab_link": true
    },
    "kernelspec": {
      "name": "python3",
      "display_name": "Python 3"
    },
    "language_info": {
      "name": "python"
    }
  },
  "cells": [
    {
      "cell_type": "markdown",
      "metadata": {
        "id": "view-in-github",
        "colab_type": "text"
      },
      "source": [
        "<a href=\"https://colab.research.google.com/github/fernandapilat/curso-python-microsoft/blob/main/python_for_beginners_microsoft.ipynb\" target=\"_parent\"><img src=\"https://colab.research.google.com/assets/colab-badge.svg\" alt=\"Open In Colab\"/></a>"
      ]
    },
    {
      "cell_type": "markdown",
      "source": [
        "# [Python for beginners [1 de 44]](https://learn.microsoft.com/pt-br/shows/intro-to-python-development/python-for-beginners-1-of-44-programming-with-python)"
      ],
      "metadata": {
        "id": "IyPTmtRiASSU"
      }
    },
    {
      "cell_type": "markdown",
      "source": [
        "What is Python?\n",
        "\n",
        "- Flexible programmin language.\n",
        "- Great starter and advanced language.\n",
        "- Wonderful community.\n",
        "\n",
        "What can I build with Python?\n",
        "\n",
        "- Machine learning models.\n",
        "- Artificial intelligence projects.\n",
        "- Web applications.\n",
        "- Etc."
      ],
      "metadata": {
        "id": "WRz0w8wdCueX"
      }
    },
    {
      "cell_type": "markdown",
      "source": [
        "# Python Programming"
      ],
      "metadata": {
        "id": "u11InerEJrvP"
      }
    },
    {
      "cell_type": "markdown",
      "source": [
        "## **02 - Print**"
      ],
      "metadata": {
        "id": "34qv_H9Olww_"
      }
    },
    {
      "cell_type": "code",
      "source": [
        "# the print statement displays a message \n",
        "print('Hello world')"
      ],
      "metadata": {
        "colab": {
          "base_uri": "https://localhost:8080/"
        },
        "id": "BdJEFq321gKf",
        "outputId": "992f5802-1436-4dd0-c83e-0efa47b18a22"
      },
      "execution_count": null,
      "outputs": [
        {
          "output_type": "stream",
          "name": "stdout",
          "text": [
            "Hello world\n"
          ]
        }
      ]
    },
    {
      "cell_type": "code",
      "source": [
        "# Strings can be enclosed in single quotes\n",
        "print('Hello world single quotes')\n",
        "\n",
        "# Strings can also be enclosed in double quotes\n",
        "print(\"Hello world double quotes\")"
      ],
      "metadata": {
        "colab": {
          "base_uri": "https://localhost:8080/"
        },
        "id": "E1BdZnVIJ2U5",
        "outputId": "a0f6acb0-1141-45ad-9566-8578381a5e6c"
      },
      "execution_count": null,
      "outputs": [
        {
          "output_type": "stream",
          "name": "stdout",
          "text": [
            "Hello world single quotes\n",
            "Hello world double quotes\n"
          ]
        }
      ]
    },
    {
      "cell_type": "code",
      "source": [
        "# Each print statements starts on a new line\n",
        "print('Hello world')\n",
        "\n",
        "# If you pass nothing to the print statement you get a blank line\n",
        "print()\n",
        "print('Did you see that blank line?')\n",
        "\n",
        "# '\\n' is a special character sequence that means print new line\n",
        "# you can use it to break the output over multiple lines\n",
        "print('Blank line \\nin the middle of string')"
      ],
      "metadata": {
        "colab": {
          "base_uri": "https://localhost:8080/"
        },
        "id": "O2GVo-cV1OFM",
        "outputId": "fff5c0de-7066-4f3b-86a5-a9078eea2947"
      },
      "execution_count": null,
      "outputs": [
        {
          "output_type": "stream",
          "name": "stdout",
          "text": [
            "Hello world\n",
            "\n",
            "Did you see that blank line?\n",
            "Blank line \n",
            "in the middle of string\n"
          ]
        }
      ]
    },
    {
      "cell_type": "code",
      "source": [
        "# The input funciton allows you to prompt the user for a value\n",
        "# You need to declare a variable to hold the value entered by the user\n",
        "name = input('What is your name? ')\n",
        "\n",
        "print(name)"
      ],
      "metadata": {
        "colab": {
          "base_uri": "https://localhost:8080/"
        },
        "id": "tPtkLGI61dCt",
        "outputId": "b5526f26-c892-47a7-9a98-49f6966d0466"
      },
      "execution_count": null,
      "outputs": [
        {
          "output_type": "stream",
          "name": "stdout",
          "text": [
            "What is your name? Fernanda\n",
            "Fernanda\n"
          ]
        }
      ]
    },
    {
      "cell_type": "code",
      "source": [
        "# Here's a challenge for you to help you practice\n",
        "# See if you can fix the code below \n",
        "\n",
        "# print('Why won't this line of code print')\n",
        "\n",
        "print(\"Why won't this line of code print\")"
      ],
      "metadata": {
        "colab": {
          "base_uri": "https://localhost:8080/"
        },
        "id": "BR-Kfnw_166e",
        "outputId": "ed27dc00-de0b-4a99-9869-128733406362"
      },
      "execution_count": null,
      "outputs": [
        {
          "output_type": "stream",
          "name": "stdout",
          "text": [
            "Why won't this line of code print\n"
          ]
        }
      ]
    },
    {
      "cell_type": "code",
      "source": [
        "#prnit('This line fails too!')\n",
        "\n",
        "print('This line fails too!')"
      ],
      "metadata": {
        "colab": {
          "base_uri": "https://localhost:8080/"
        },
        "id": "1tOPOh5A2GNs",
        "outputId": "1e3f462e-59f4-444d-f3e6-7406fa344641"
      },
      "execution_count": null,
      "outputs": [
        {
          "output_type": "stream",
          "name": "stdout",
          "text": [
            "This line fails too!\n"
          ]
        }
      ]
    },
    {
      "cell_type": "code",
      "source": [
        "#print \"I think I know how to fix this one\"\n",
        "\n",
        "print(\"I think I know how to fix this one\")"
      ],
      "metadata": {
        "colab": {
          "base_uri": "https://localhost:8080/"
        },
        "id": "8J-o4Zv02Ono",
        "outputId": "45e8cecc-f1fd-4eed-b1af-92b5354b28d4"
      },
      "execution_count": null,
      "outputs": [
        {
          "output_type": "stream",
          "name": "stdout",
          "text": [
            "I think I know how to fix this one\n"
          ]
        }
      ]
    },
    {
      "cell_type": "code",
      "source": [
        "#input('Please tell me your name: ')\n",
        "#print(name)\n",
        "\n",
        "name2 = input('Please tell me your name: ')\n",
        "print(name2)"
      ],
      "metadata": {
        "colab": {
          "base_uri": "https://localhost:8080/"
        },
        "id": "tb-0uLXY2Vww",
        "outputId": "116c6e5f-94e9-4a65-97be-b4611033c1e3"
      },
      "execution_count": null,
      "outputs": [
        {
          "output_type": "stream",
          "name": "stdout",
          "text": [
            "Please tell me your name: Fernanda\n",
            "Fernanda\n"
          ]
        }
      ]
    },
    {
      "cell_type": "markdown",
      "source": [
        "## **03 - Comments**"
      ],
      "metadata": {
        "id": "u1-NB3WZlGcG"
      }
    },
    {
      "cell_type": "markdown",
      "source": [
        "É muito utilizado para comentar e descomentar para achar bugs e/ou desbugar o código."
      ],
      "metadata": {
        "id": "Paqv3HSPl_X7"
      }
    },
    {
      "cell_type": "code",
      "source": [
        "# Using double quotes for this string because \n",
        "# the string itself contains a single quote\n",
        "print(\"It's a small world after all\")"
      ],
      "metadata": {
        "colab": {
          "base_uri": "https://localhost:8080/"
        },
        "id": "gafh3qx9Of2Z",
        "outputId": "a376946e-8a3b-4c0f-94aa-f0ef7a532d43"
      },
      "execution_count": null,
      "outputs": [
        {
          "output_type": "stream",
          "name": "stdout",
          "text": [
            "It's a small world after all\n"
          ]
        }
      ]
    },
    {
      "cell_type": "code",
      "source": [
        "#The enable_pin method is not coded yet\n",
        "# I have created a dummy method so the code\n",
        "# will run without an error\n",
        "# Don't panic if you don't understand this part of the code\n",
        "# we cover methods in a separate module\n",
        "def enable_pin(user, pin):\n",
        "    print('pin enabled')\n",
        "\n",
        "# Set current_user and pin to test values\n",
        "current_user = 'TEST123'\n",
        "pin = '123456'\n",
        "\n",
        "# Enable PIN check as listed in\n",
        "# security requirements\n",
        "enable_pin(current_user, pin)"
      ],
      "metadata": {
        "colab": {
          "base_uri": "https://localhost:8080/"
        },
        "id": "JzkQLu7M2xff",
        "outputId": "3983b8e7-cc50-42f9-aa63-fed66e759bef"
      },
      "execution_count": null,
      "outputs": [
        {
          "output_type": "stream",
          "name": "stdout",
          "text": [
            "pin enabled\n"
          ]
        }
      ]
    },
    {
      "cell_type": "code",
      "source": [
        "#comments for debugging\n",
        "\n",
        "print('Hello world')\n",
        "\n",
        "#print('It's a small world after all')\n",
        "print(\"It's a small world after all\")"
      ],
      "metadata": {
        "colab": {
          "base_uri": "https://localhost:8080/"
        },
        "id": "uI5rK0dk4t2n",
        "outputId": "7d012581-f94d-4519-9319-329a5473d041"
      },
      "execution_count": null,
      "outputs": [
        {
          "output_type": "stream",
          "name": "stdout",
          "text": [
            "Hello world\n",
            "It's a small world after all\n"
          ]
        }
      ]
    },
    {
      "cell_type": "markdown",
      "source": [
        "## **04 - String variables**"
      ],
      "metadata": {
        "id": "WHqkFafJm3wa"
      }
    },
    {
      "cell_type": "markdown",
      "source": [
        "Python can store and manipulate strings."
      ],
      "metadata": {
        "id": "2bn8W-3Bn9LC"
      }
    },
    {
      "cell_type": "code",
      "source": [
        "# You can store strings in variables\n",
        "first_name  =  'Fernanda'\n",
        "\n",
        "# The variable can then be used later in your code\n",
        "print(first_name)"
      ],
      "metadata": {
        "colab": {
          "base_uri": "https://localhost:8080/"
        },
        "id": "572iFa-GnDmS",
        "outputId": "1b14d241-3b74-4ffd-f934-4125fcda0725"
      },
      "execution_count": null,
      "outputs": [
        {
          "output_type": "stream",
          "name": "stdout",
          "text": [
            "Fernanda\n"
          ]
        }
      ]
    },
    {
      "cell_type": "code",
      "source": [
        "last_name  =  'Pilat'\n",
        "print(last_name)"
      ],
      "metadata": {
        "colab": {
          "base_uri": "https://localhost:8080/"
        },
        "id": "qXpAh6UDqV0o",
        "outputId": "7c4369e5-d388-43a2-ab78-cffea494e653"
      },
      "execution_count": null,
      "outputs": [
        {
          "output_type": "stream",
          "name": "stdout",
          "text": [
            "Pilat\n"
          ]
        }
      ]
    },
    {
      "cell_type": "code",
      "source": [
        "# There are a number of string functions you can use\n",
        "# on string variables\n",
        "sentence = 'The dog is named Cyndi'\n",
        "\n",
        "# upper will return the string in uppercase letters\n",
        "print(sentence.upper())\n",
        "\n",
        "# lower will return the string in lowercase letters\n",
        "print(sentence.lower())\n",
        "\n",
        "# capitalize will return the string with the first letter uppercase\n",
        "# and the rest of the string in lowercase\n",
        "print(sentence.capitalize())"
      ],
      "metadata": {
        "colab": {
          "base_uri": "https://localhost:8080/"
        },
        "id": "JsxfJiSppOFo",
        "outputId": "2e33be79-9481-4776-fed6-feb43b68e320"
      },
      "execution_count": null,
      "outputs": [
        {
          "output_type": "stream",
          "name": "stdout",
          "text": [
            "THE DOG IS NAMED CYNDI\n",
            "the dog is named cyndi\n",
            "The dog is named cyndi\n"
          ]
        }
      ]
    },
    {
      "cell_type": "code",
      "source": [
        "# count will count the number of occurrences of the value specified\n",
        "# in the string, in this case how many times the letter 'a' appears\n",
        "print(sentence.count('o'))"
      ],
      "metadata": {
        "colab": {
          "base_uri": "https://localhost:8080/"
        },
        "id": "D992N6lvpZ1f",
        "outputId": "ad3a01dc-9e06-41aa-8614-056ca3ceda4f"
      },
      "execution_count": null,
      "outputs": [
        {
          "output_type": "stream",
          "name": "stdout",
          "text": [
            "1\n"
          ]
        }
      ]
    },
    {
      "cell_type": "code",
      "source": [
        "# Ask the user for their first and last name\n",
        "first_name = input('What is your first name? ')\n",
        "last_name = input('What is your last name? ')"
      ],
      "metadata": {
        "colab": {
          "base_uri": "https://localhost:8080/"
        },
        "id": "ohA75ziGqghQ",
        "outputId": "4825d4e3-5e71-4aa5-b1e3-3343d27dcbd9"
      },
      "execution_count": null,
      "outputs": [
        {
          "name": "stdout",
          "output_type": "stream",
          "text": [
            "What is your first name? Fernanda\n",
            "What is your last name? Pilat\n"
          ]
        }
      ]
    },
    {
      "cell_type": "code",
      "source": [
        "# the capitalize function will return the string with \n",
        "# the first letter uppercase and the rest of the word lowercase\n",
        "print ('Hello ' + first_name.capitalize() + ' ' \\\n",
        "       + last_name.capitalize())"
      ],
      "metadata": {
        "colab": {
          "base_uri": "https://localhost:8080/"
        },
        "id": "zTaQyoT0q7jv",
        "outputId": "c2f92dcb-6bbd-455e-d8bc-940adf0048ff"
      },
      "execution_count": null,
      "outputs": [
        {
          "output_type": "stream",
          "name": "stdout",
          "text": [
            "Hello Fernanda Pilat\n"
          ]
        }
      ]
    },
    {
      "cell_type": "code",
      "source": [
        "# You can use the + operator to concatenate strings\n",
        "first_name = 'Fernanda'\n",
        "last_name = 'Pilat'\n",
        "print(first_name + last_name)\n",
        "\n",
        "# If you want a space between the strings you must include the space\n",
        "# within the string\n",
        "print('Hello ' + first_name + ' ' + last_name)"
      ],
      "metadata": {
        "colab": {
          "base_uri": "https://localhost:8080/"
        },
        "id": "4dJHKQpKrmEC",
        "outputId": "68d5b8fa-921e-4a60-c6e7-193ce26a9f43"
      },
      "execution_count": null,
      "outputs": [
        {
          "output_type": "stream",
          "name": "stdout",
          "text": [
            "FernandaPilat\n",
            "Hello Fernanda Pilat\n"
          ]
        }
      ]
    },
    {
      "cell_type": "code",
      "source": [
        "# ask a user to enter their first name and store it in a variable\n",
        "first_name = input(\"What's your first name? \").capitalize()\n",
        "\n",
        "# ask a user to enter their last name and store it in a variable\n",
        "last_name = input(\"What's your last name? \").capitalize()\n",
        "\n",
        "# print their full name\n",
        "print('The complete name is: ' + first_name + ' ' + last_name)\n",
        "\n",
        "# Make sure you have a space between first and last name\n",
        "# Make sure the first letter of first name and last name is uppercase\n",
        "# Make sure the rest of the name is lowercase"
      ],
      "metadata": {
        "colab": {
          "base_uri": "https://localhost:8080/"
        },
        "id": "yPE7SCNNuvDD",
        "outputId": "8b920080-21ce-4ade-f70b-eeacf3494e2a"
      },
      "execution_count": null,
      "outputs": [
        {
          "output_type": "stream",
          "name": "stdout",
          "text": [
            "What's your first name? Fernanda\n",
            "What's your last name? Pilat\n",
            "The complete name is: Fernanda Pilat\n"
          ]
        }
      ]
    },
    {
      "cell_type": "code",
      "source": [
        "first_name = 'Fernanda'\n",
        "last_name = 'Pilat'\n",
        "\n",
        "#output = 'Hello, {} {}'.format(first_name, last_name)\n",
        "#output = 'Hello, {0} {1}'.format(first_name, last_name)\n",
        "output = f'Hello, {first_name} {last_name}'\n",
        "\n",
        "\n",
        "print(output)"
      ],
      "metadata": {
        "colab": {
          "base_uri": "https://localhost:8080/"
        },
        "id": "QMxwnDrtz02M",
        "outputId": "5ac1cfce-37d0-4f77-c5fd-17937908cca3"
      },
      "execution_count": null,
      "outputs": [
        {
          "output_type": "stream",
          "name": "stdout",
          "text": [
            "Hello, Fernanda Pilat\n"
          ]
        }
      ]
    },
    {
      "cell_type": "markdown",
      "source": [
        "## **05 - Numeric variables**"
      ],
      "metadata": {
        "id": "R0INnBJ35Dho"
      }
    },
    {
      "cell_type": "markdown",
      "source": [
        "Python can store and manipulate numbers. Python has two types of numeric values: **integers** (whole numbers) or **float** (numbers with decimal places)"
      ],
      "metadata": {
        "id": "l7zpHE-25QuN"
      }
    },
    {
      "cell_type": "code",
      "source": [
        "# You can use variables to store numeric values\n",
        "pi = 3.14159\n",
        "print(pi)"
      ],
      "metadata": {
        "colab": {
          "base_uri": "https://localhost:8080/"
        },
        "id": "rXBK8Nyk5Nq8",
        "outputId": "ae5138a3-05da-45ee-bfb4-0de3d8b091e5"
      },
      "execution_count": null,
      "outputs": [
        {
          "output_type": "stream",
          "name": "stdout",
          "text": [
            "3.14159\n"
          ]
        }
      ]
    },
    {
      "cell_type": "code",
      "source": [
        "# Python has to guess what datatype a variable should be\n",
        "\n",
        "# since the input function returns a string, the variables it populates\n",
        "# will hold string values\n",
        "first_num = input('Enter first number ')\n",
        "second_num = input('Enter second number ')\n",
        "\n",
        "# Because first_num and second_num are string variables the + operator\n",
        "# concatenates them just like concatenating first_name and last_name\n",
        "print(first_num + second_num)"
      ],
      "metadata": {
        "colab": {
          "base_uri": "https://localhost:8080/"
        },
        "id": "QQ2bz6JkBWnU",
        "outputId": "f193ef88-8764-41d3-9a3f-81adbc6d2e41"
      },
      "execution_count": null,
      "outputs": [
        {
          "output_type": "stream",
          "name": "stdout",
          "text": [
            "Enter first number 8\n",
            "Enter second number 2\n",
            "82\n"
          ]
        }
      ]
    },
    {
      "cell_type": "code",
      "source": [
        "# Because the variables are assigned numeric values when created\n",
        "# Python knows they are numeric variables\n",
        "first_num = 6\n",
        "second_num = 2\n",
        "\n",
        "# You can peform a variety of math operations on numeric values\n",
        "print('addition')\n",
        "print(first_num + second_num)\n",
        "print('subtraction')\n",
        "print(first_num - second_num)\n",
        "print('multiplication')\n",
        "print(first_num * second_num)\n",
        "print('division')\n",
        "print(first_num / second_num)\n",
        "print ('exponent')\n",
        "print(first_num ** second_num)"
      ],
      "metadata": {
        "colab": {
          "base_uri": "https://localhost:8080/"
        },
        "id": "DqqBwoFtCu2A",
        "outputId": "4c9504ec-24b9-4bda-a729-b9bb6e59322c"
      },
      "execution_count": null,
      "outputs": [
        {
          "output_type": "stream",
          "name": "stdout",
          "text": [
            "addition\n",
            "8\n",
            "subtraction\n",
            "4\n",
            "multiplication\n",
            "12\n",
            "division\n",
            "3.0\n",
            "exponent\n",
            "36\n"
          ]
        }
      ]
    },
    {
      "cell_type": "code",
      "source": [
        "first_num = input('Enter first number ')\n",
        "second_num = input('Enter second number ')\n",
        "# If you have a string variable containing a number\n",
        "# And you want to treat it as a number\n",
        "# You must convert it to a numeric datatype\n",
        "# int() converts a string to an integer e.g. 5, 8, 416, 506\n",
        "print(int(first_num) + int(second_num))\n",
        "\n",
        "# float() converts a string to a decimal or float number e.g. 3.14159, 89.5, 1.0\n",
        "print(float(first_num) + float(second_num))"
      ],
      "metadata": {
        "colab": {
          "base_uri": "https://localhost:8080/"
        },
        "id": "4oLkbtFMCzqx",
        "outputId": "0ea84fc8-44fc-4972-9086-1c7b882db473"
      },
      "execution_count": null,
      "outputs": [
        {
          "output_type": "stream",
          "name": "stdout",
          "text": [
            "Enter first number 8\n",
            "Enter second number 2\n",
            "10\n",
            "10.0\n"
          ]
        }
      ]
    },
    {
      "cell_type": "code",
      "source": [
        "days_in_feb = 28\n",
        "\n",
        "# The print function can accept numbers or strings\n",
        "print(days_in_feb)\n",
        "\n",
        "# The + operator can either add two numbers or it can concatenate two strings\n",
        "# it does not know what to do when you pass it one number and one string\n",
        "# This line of code will cause an error\n",
        "\n",
        "# print(days_in_feb + ' days in February')\n",
        "\n",
        "# You need to convert the number to a string to display the value\n",
        "# This line of code will work\n",
        "print(str(days_in_feb) + ' days in February')"
      ],
      "metadata": {
        "colab": {
          "base_uri": "https://localhost:8080/"
        },
        "id": "bqhCF9lxC9Ou",
        "outputId": "4e4f704a-596f-4e9b-bea7-74f22013cd52"
      },
      "execution_count": null,
      "outputs": [
        {
          "output_type": "stream",
          "name": "stdout",
          "text": [
            "28\n",
            "28 days in February\n"
          ]
        }
      ]
    },
    {
      "cell_type": "code",
      "source": [
        "# Ask a user to enter a number\n",
        "num1 = float(input('Digite aqui o primeiro número: '))\n",
        "\n",
        "# Ask a user to enter a second number\n",
        "num2 = float(input('Digite aqui o segundo número: '))\n",
        "\n",
        "# Calculate the total of the two numbers added together\n",
        "resultado = num1 + num2\n",
        "\n",
        "# Print 'first number + second number = answer'\n",
        "print(f'O resultado é: {resultado}') \n",
        "\n",
        "# For example if someone enters 4 and 6 the output should read\n",
        "# 4 + 6 = 10"
      ],
      "metadata": {
        "colab": {
          "base_uri": "https://localhost:8080/"
        },
        "id": "mePLLa9mDHyU",
        "outputId": "c7508bd9-7a87-4ed1-a777-e9006635785c"
      },
      "execution_count": null,
      "outputs": [
        {
          "output_type": "stream",
          "name": "stdout",
          "text": [
            "Digite aqui o primeiro número: 5.6\n",
            "Digite aqui o segundo número: 4.4\n",
            "O resultado é: 10.0\n"
          ]
        }
      ]
    },
    {
      "cell_type": "markdown",
      "source": [
        "## **06 - Dates**"
      ],
      "metadata": {
        "id": "rf1aS_hc6Z-v"
      }
    },
    {
      "cell_type": "code",
      "source": [
        "# import the datetime and timedelta modules\n",
        "from datetime import datetime, timedelta\n",
        "current_date = datetime.now()\n",
        "\n",
        "print('Day: ' + str(current_date.day))\n",
        "print('Month: ' + str(current_date.month))\n",
        "print('Year: ' + str(current_date.year))\n",
        "print('Hour: ' + str(current_date.hour))\n",
        "print('Minute: ' + str(current_date.minute))\n",
        "print('Second: ' + str(current_date.second))\n",
        "\n",
        "print('Today is: ' + str(current_date))"
      ],
      "metadata": {
        "colab": {
          "base_uri": "https://localhost:8080/"
        },
        "id": "T1ZeHUBk6h1T",
        "outputId": "abc025b0-f9e3-441e-fdfb-d984ba8a857c"
      },
      "execution_count": null,
      "outputs": [
        {
          "output_type": "stream",
          "name": "stdout",
          "text": [
            "Day: 25\n",
            "Month: 12\n",
            "Year: 2022\n",
            "Hour: 15\n",
            "Minute: 56\n",
            "Second: 21\n",
            "Today is: 2022-12-25 15:56:21.791853\n"
          ]
        }
      ]
    },
    {
      "cell_type": "code",
      "source": [
        "birthday = input('When is your birthday (dd-mm-yyyy)? ')\n",
        "\n",
        "#upper Y, format of date it's important when defined\n",
        "#so the format can be dd-mm-yyyy or dd/mm/yyyy\n",
        "birthday_date = datetime.strptime(birthday, '%d-%m-%Y') \n",
        "\n",
        "print('Birthday: ' + str(birthday_date))\n",
        "\n",
        "one_day = timedelta(days=1)\n",
        "birthday_eve = birthday_date - one_day\n",
        "print('Day before birthday: ' + str(birthday_eve))"
      ],
      "metadata": {
        "colab": {
          "base_uri": "https://localhost:8080/"
        },
        "id": "9N6843yqkhLm",
        "outputId": "b94c987e-4910-4573-a31c-2b2d43664d22"
      },
      "execution_count": null,
      "outputs": [
        {
          "output_type": "stream",
          "name": "stdout",
          "text": [
            "When is your birthday (dd-mm-yyyy)? 11-08-1996\n",
            "Birthday: 1996-08-11 00:00:00\n",
            "Day before birthday: 1996-08-10 00:00:00\n"
          ]
        }
      ]
    },
    {
      "cell_type": "markdown",
      "source": [
        "## **07 - Error handling**"
      ],
      "metadata": {
        "id": "cRrE_B71p4FL"
      }
    },
    {
      "cell_type": "code",
      "source": [
        "x = 42\n",
        "y = 206\n",
        "if x == y\n",
        "    print('Success')"
      ],
      "metadata": {
        "colab": {
          "base_uri": "https://localhost:8080/",
          "height": 130
        },
        "id": "v3ExKFJTp89r",
        "outputId": "cfd0b34a-b8ec-4acb-b02c-a12b054691ad"
      },
      "execution_count": null,
      "outputs": [
        {
          "output_type": "error",
          "ename": "SyntaxError",
          "evalue": "ignored",
          "traceback": [
            "\u001b[0;36m  File \u001b[0;32m\"<ipython-input-36-89422f019735>\"\u001b[0;36m, line \u001b[0;32m3\u001b[0m\n\u001b[0;31m    if x == y\u001b[0m\n\u001b[0m             ^\u001b[0m\n\u001b[0;31mSyntaxError\u001b[0m\u001b[0;31m:\u001b[0m invalid syntax\n"
          ]
        }
      ]
    },
    {
      "cell_type": "code",
      "source": [
        "x = 42\n",
        "y = 0\n",
        "try:\n",
        "    print(x / y)\n",
        "except ZeroDivisionError as e:\n",
        "    # Optionally, log e somewhere\n",
        "    print('Sorry, something went wrong')\n",
        "except:\n",
        "    print('Something really went wrong')\n",
        "finally:\n",
        "    print('This always runs on success or failure')"
      ],
      "metadata": {
        "colab": {
          "base_uri": "https://localhost:8080/"
        },
        "id": "Ft8DkxNHqtFn",
        "outputId": "8dd49728-11cf-4eaa-e98c-47cfdd85a872"
      },
      "execution_count": null,
      "outputs": [
        {
          "output_type": "stream",
          "name": "stdout",
          "text": [
            "Sorry, something went wrong\n",
            "This always runs on success or failure\n"
          ]
        }
      ]
    },
    {
      "cell_type": "code",
      "source": [
        "x = 206\n",
        "y = 42\n",
        "if x < y:\n",
        "    print(str(x) + ' is greater than ' + str(y))"
      ],
      "metadata": {
        "id": "KrBKgcV0LAjA"
      },
      "execution_count": null,
      "outputs": []
    },
    {
      "cell_type": "markdown",
      "source": [
        "## **08 - Handling conditions**"
      ],
      "metadata": {
        "id": "F_hl0RYeNByh"
      }
    },
    {
      "cell_type": "markdown",
      "source": [
        "Conditional execution can be completed using the if statement: `If` syntax.\n",
        "\n",
        "\n",
        "**Comparison operators:**\n",
        "\n",
        "- '<' less than\n",
        "- '<' greater than\n",
        "- '==' is equal to\n",
        "- '>=' greater than or equal to\n",
        "- '<=' less than or equal to\n",
        "- '!=' not equal to\n",
        "\n"
      ],
      "metadata": {
        "id": "nnifxhl-N0jO"
      }
    },
    {
      "cell_type": "code",
      "source": [
        "price = input('how much did you pay? ')\n",
        "\n",
        "price = float(price)\n",
        "if price  >= 1.00:\n",
        "  tax =.07\n",
        "  print('Tax rate is: ' + str(tax))\n",
        "else:\n",
        "  tax = 0\n",
        "  print('Tax rate is: ' + str(tax))"
      ],
      "metadata": {
        "colab": {
          "base_uri": "https://localhost:8080/"
        },
        "id": "pSgY5-y5QK1D",
        "outputId": "5495c526-0f25-4aa1-875e-48f910d6c0f1"
      },
      "execution_count": null,
      "outputs": [
        {
          "output_type": "stream",
          "name": "stdout",
          "text": [
            "how much did you pay? 2\n",
            "Tax rate is: 0.07\n"
          ]
        }
      ]
    },
    {
      "cell_type": "code",
      "source": [
        "country = input('Enter the name of your home country: ')\n",
        "if country == 'canada':\n",
        "\t# string comparisons are case sensitive\n",
        "\t# if you typed in CANADA or Canada it will not match\n",
        "\tprint('So you must like hockey!')\n",
        "else:\n",
        "\tprint('You are not from Canada')"
      ],
      "metadata": {
        "colab": {
          "base_uri": "https://localhost:8080/"
        },
        "id": "rqRF1cx7P0Cl",
        "outputId": "aaef65ba-726d-4ec0-f37c-1ba7140aa7ea"
      },
      "execution_count": null,
      "outputs": [
        {
          "output_type": "stream",
          "name": "stdout",
          "text": [
            "Enter the name of your home country: Brasil\n",
            "You are not from Canada\n"
          ]
        }
      ]
    },
    {
      "cell_type": "markdown",
      "source": [
        "## **09 - Handling multiple conditions**"
      ],
      "metadata": {
        "id": "MGVwD7FY3Ev4"
      }
    },
    {
      "cell_type": "markdown",
      "source": [
        "Conditional execution can be completed using the if statement. Adding elif allows you to check multiple conditions."
      ],
      "metadata": {
        "id": "-dIv9ev03O7d"
      }
    },
    {
      "cell_type": "code",
      "source": [
        "province = input(\"What province do you live in? \")\n",
        "tax = 0\n",
        "\n",
        "if province == 'Alberta': \n",
        "\ttax = 0.05\n",
        "elif province == 'Nunavut':\n",
        "\ttax = 0.05\n",
        "elif province == 'Ontario':\n",
        "\ttax = 0.13\n",
        "print(tax)"
      ],
      "metadata": {
        "colab": {
          "base_uri": "https://localhost:8080/"
        },
        "id": "8WzvIdf43JSa",
        "outputId": "777ec254-947a-46c0-bfef-95259b3f3edc"
      },
      "execution_count": null,
      "outputs": [
        {
          "output_type": "stream",
          "name": "stdout",
          "text": [
            "What province do you live in? Ontario\n",
            "0.13\n"
          ]
        }
      ]
    },
    {
      "cell_type": "code",
      "source": [
        "province = input(\"What province do you live in? \")\n",
        "tax = 0\n",
        "\n",
        "if province == 'Alberta' or province == 'Nunavut':\n",
        "\ttax = 0.05\n",
        "elif province == 'Ontario':\n",
        "\ttax = 0.13\n",
        "print(tax)"
      ],
      "metadata": {
        "colab": {
          "base_uri": "https://localhost:8080/"
        },
        "id": "mh8yoNO29tYr",
        "outputId": "f1d99f68-d725-433a-8686-c3a497d49409"
      },
      "execution_count": null,
      "outputs": [
        {
          "output_type": "stream",
          "name": "stdout",
          "text": [
            "What province do you live in? Nunavut\n",
            "0.05\n"
          ]
        }
      ]
    },
    {
      "cell_type": "code",
      "source": [
        "province = input(\"What province do you live in? \")\n",
        "tax = 0\n",
        "\n",
        "if province in('Alberta', 'Nunavut', 'Yukon'):\n",
        "\ttax = 0.05\n",
        "elif province == 'Ontario':\n",
        "\ttax = 0.13\n",
        "print(tax)"
      ],
      "metadata": {
        "colab": {
          "base_uri": "https://localhost:8080/"
        },
        "id": "eWjJOFUI-AcY",
        "outputId": "f0d8294f-7706-44cb-99e5-7a642aa3d3c8"
      },
      "execution_count": null,
      "outputs": [
        {
          "output_type": "stream",
          "name": "stdout",
          "text": [
            "What province do you live in? Alberta\n",
            "0.05\n"
          ]
        }
      ]
    },
    {
      "cell_type": "code",
      "source": [
        "country = input(\"What country do you live in? \")\n",
        "# province = input(\"What province do you live in? \")\n",
        "\n",
        "#tax = 0\n",
        "\n",
        "if country == 'Canada':\n",
        "  province = input(\"What province do you live in? \")\n",
        "  \n",
        "  if province in('Alberta', \\\n",
        "                 'Nunavut', 'Yukon'):\n",
        "    tax = 0.05\n",
        "  elif province == 'Ontario':\n",
        "\t  tax = 0.13\n",
        "  else:\n",
        "    tax = 0.15\n",
        "else:\n",
        "  tax = 0\n",
        "\n",
        "print(tax)"
      ],
      "metadata": {
        "colab": {
          "base_uri": "https://localhost:8080/"
        },
        "id": "KqMfSJy_-gOD",
        "outputId": "9c77ae37-cfcb-4e7e-a4be-c6031f1bc185"
      },
      "execution_count": null,
      "outputs": [
        {
          "output_type": "stream",
          "name": "stdout",
          "text": [
            "What country do you live in? Brasil\n",
            "0\n"
          ]
        }
      ]
    },
    {
      "cell_type": "markdown",
      "source": [
        "## **10 - Complex conditon checks**"
      ],
      "metadata": {
        "id": "MFPEB1YfNJgC"
      }
    },
    {
      "cell_type": "markdown",
      "source": [
        "Conditional execution can be completed using the if statement: `if` syntax.\n",
        "\n",
        "- x or y - If either x OR y is true, the expression is \n",
        "executed\n",
        "- x and y - If x AND y are both true, the expression is executed"
      ],
      "metadata": {
        "id": "T0NQhuDAP4Oj"
      }
    },
    {
      "cell_type": "code",
      "source": [
        "# A student makes honour roll if their average is >=85\n",
        "# and their lowest grade is not below 70\n",
        "\n",
        "gpa = float(input('What was your Grade Point Average? '))\n",
        "lowest_grade = input('What was your lowest grade? ')\n",
        "lowest_grade = float(lowest_grade)\n",
        "\n",
        "if gpa >= .85 and lowest_grade >= .70:\n",
        "\t\tprint('You made the honour roll')"
      ],
      "metadata": {
        "id": "-XKPpb9cNNLV"
      },
      "execution_count": null,
      "outputs": []
    },
    {
      "cell_type": "markdown",
      "source": [
        "## **11 - Collections**"
      ],
      "metadata": {
        "id": "KkoCrVeBbqBa"
      }
    },
    {
      "cell_type": "markdown",
      "source": [
        "Collections are groups of items. Python supports several types of collections. Three of the most common are dictionaries, lists and arrays."
      ],
      "metadata": {
        "id": "HOAz1jykcAIq"
      }
    },
    {
      "cell_type": "code",
      "source": [
        "names = ['Pilat', 'Fernanda']\n",
        "scores = []\n",
        "scores.append(98)\n",
        "scores.append(99)\n",
        "print(names)\n",
        "print(scores)"
      ],
      "metadata": {
        "colab": {
          "base_uri": "https://localhost:8080/"
        },
        "id": "5mmOfrBcbwF8",
        "outputId": "63361910-d995-4184-838a-2010dd94f3d3"
      },
      "execution_count": null,
      "outputs": [
        {
          "output_type": "stream",
          "name": "stdout",
          "text": [
            "['Pilat', 'Fernanda']\n",
            "[98, 99]\n"
          ]
        }
      ]
    },
    {
      "cell_type": "code",
      "source": [
        "names = ['Pilat', 'Fernanda', 'Benny']\n",
        "presenters = names[0:2] # Get the first two items\n",
        "# Starting index and number of items to retrieve\n",
        "\n",
        "print(names)\n",
        "print(presenters)"
      ],
      "metadata": {
        "colab": {
          "base_uri": "https://localhost:8080/"
        },
        "id": "c25tSqgVhJ5Z",
        "outputId": "830746a7-316c-4e1a-faa6-16f58f315756"
      },
      "execution_count": null,
      "outputs": [
        {
          "output_type": "stream",
          "name": "stdout",
          "text": [
            "['Pilat', 'Fernanda', 'Benny']\n",
            "['Pilat', 'Fernanda']\n"
          ]
        }
      ]
    },
    {
      "cell_type": "code",
      "source": [
        "from array import array\n",
        "scores = array('d')\n",
        "scores.append(97)\n",
        "scores.append(98)\n",
        "print(scores)"
      ],
      "metadata": {
        "colab": {
          "base_uri": "https://localhost:8080/"
        },
        "id": "CuR6d4rhhRbf",
        "outputId": "0f97a90e-8195-495d-f4ee-508041088e53"
      },
      "execution_count": null,
      "outputs": [
        {
          "output_type": "stream",
          "name": "stdout",
          "text": [
            "array('d', [97.0, 98.0])\n"
          ]
        }
      ]
    },
    {
      "cell_type": "code",
      "source": [
        "person = {'first': 'Fernanda'}\n",
        "person['last'] = 'Pilat'\n",
        "print(person)\n",
        "print(person['first'])"
      ],
      "metadata": {
        "colab": {
          "base_uri": "https://localhost:8080/"
        },
        "id": "cjuzfsvlhXJ8",
        "outputId": "b7dc4105-f6f2-4bf0-9840-ce064afbdf18"
      },
      "execution_count": null,
      "outputs": [
        {
          "output_type": "stream",
          "name": "stdout",
          "text": [
            "{'first': 'Fernanda', 'last': 'Pilat'}\n",
            "Fernanda\n"
          ]
        }
      ]
    },
    {
      "cell_type": "markdown",
      "source": [
        "## **12 - Loops**"
      ],
      "metadata": {
        "id": "jMFOJ-3ru1W_"
      }
    },
    {
      "cell_type": "markdown",
      "source": [
        "- `for`: takes each item in an array or collection in order, and assigns it to the variable you define.\n",
        "- `while`: perform an operation as long as a condition is **true**."
      ],
      "metadata": {
        "id": "kvgWN2d0vNTn"
      }
    },
    {
      "cell_type": "code",
      "source": [
        "# range creates an array\n",
        "# First parameter is the starter\n",
        "# Second indicates the number of numbers to create\n",
        "# range(0, 2) creates [0, 1]\n",
        "for index in range(0, 2):\n",
        "\tprint(index)"
      ],
      "metadata": {
        "colab": {
          "base_uri": "https://localhost:8080/"
        },
        "id": "f7fBF_CSvfWL",
        "outputId": "c8bb105c-f5f5-446d-faf4-e190ed66df35"
      },
      "execution_count": null,
      "outputs": [
        {
          "output_type": "stream",
          "name": "stdout",
          "text": [
            "0\n",
            "1\n"
          ]
        }
      ]
    },
    {
      "cell_type": "code",
      "source": [
        "names = ['Fernanda', 'Pilat']\n",
        "index = 0\n",
        "while index < len(names):\n",
        "\tprint(names[index])\n",
        "\t# Change the condition!!\n",
        "\tindex = index + 1"
      ],
      "metadata": {
        "colab": {
          "base_uri": "https://localhost:8080/"
        },
        "id": "B-QQWroJ9sKy",
        "outputId": "30fccccf-c861-40b3-d26c-87eb15de5b5c"
      },
      "execution_count": null,
      "outputs": [
        {
          "output_type": "stream",
          "name": "stdout",
          "text": [
            "Fernanda\n",
            "Pilat\n"
          ]
        }
      ]
    },
    {
      "cell_type": "code",
      "source": [
        "for name in ['Pilat', 'Fernanda']:\n",
        "\tprint(name)"
      ],
      "metadata": {
        "colab": {
          "base_uri": "https://localhost:8080/"
        },
        "id": "JOnuqWei-7RQ",
        "outputId": "c8a79da9-2e04-47de-955a-3f86b6888736"
      },
      "execution_count": null,
      "outputs": [
        {
          "output_type": "stream",
          "name": "stdout",
          "text": [
            "Pilat\n",
            "Fernanda\n"
          ]
        }
      ]
    },
    {
      "cell_type": "markdown",
      "source": [
        "## **13 - Functions** \n"
      ],
      "metadata": {
        "id": "K6cg4oyJ_Jt_"
      }
    },
    {
      "cell_type": "markdown",
      "source": [
        "Functions allow you to take code that is **repeated** and **move** it to a module that can be called when needed. Functions are defined with the `def` keyword and must be declared before the function is called in your code. Functions can accept parameters and return values."
      ],
      "metadata": {
        "id": "KD8iFMeFAkox"
      }
    },
    {
      "cell_type": "code",
      "source": [
        "# Create function get_initial to accept a name and \n",
        "# return the first letter of the name in uppercase\n",
        "# Parameters:\n",
        "#   name: the name of a person\n",
        "# Return value:\n",
        "#   first letter of name passed in as a parameter in uppercase \n",
        "def get_initial(name):\n",
        "    initial = name[0:1].upper()\n",
        "    return initial\n",
        "\n",
        "# This program will ask for someone's name and return the initials\n",
        "first_name = input('Enter your first name: ')\n",
        "# Call get_initial to retrieve initial of name\n",
        "first_name_initial = get_initial(first_name)\n",
        "\n",
        "middle_name = input('Enter your middle name: ')\n",
        "# Call get_initial to retrieve initial of name\n",
        "middle_name_initial = get_initial(middle_name)\n",
        "\n",
        "last_name = input('Enter your last name: ')\n",
        "# Call get_initial to retrieve initial of name\n",
        "last_name_initial = get_initial(last_name)\n",
        "\n",
        "print('Your initials are: ' + first_name_initial \\\n",
        "    + middle_name_initial + last_name_initial)"
      ],
      "metadata": {
        "colab": {
          "base_uri": "https://localhost:8080/"
        },
        "id": "QgFFhOwaHKy9",
        "outputId": "334d3bb5-9334-4def-e8c8-904e1befe356"
      },
      "execution_count": null,
      "outputs": [
        {
          "output_type": "stream",
          "name": "stdout",
          "text": [
            "Enter your first name: Fernanda\n",
            "Enter your middle name: Alves\n",
            "Enter your last name: Pilat\n",
            "Your initials are: FAP\n"
          ]
        }
      ]
    },
    {
      "cell_type": "code",
      "source": [
        "def calculator(first_number, second_number, operation):\n",
        "    if operation.upper() == 'ADD':\n",
        "        return(float(first_number) + float(second_number))\n",
        "    elif operation.upper() =='SUBTRACT':\n",
        "        return(float(first_number) - float(second_number))\n",
        "    else:\n",
        "        return('Invalid operation please specify ADD or SUBTRACT')\n",
        "# Test your function with the values 6,4, add \n",
        "# Should return 10\n",
        "#\n",
        "print('Adding 6 + 4 = ' + str(calculator(6,4,'add')))\n",
        "# Test your function with the values 6,4, subtract \n",
        "# Should return 2\n",
        "print('Subtracting 6 - 4 = ' + str(calculator(6,4,'subtract')))\n",
        "# Test your function with the values 6,4, divide \n",
        "# Should return some sort of error message\n",
        "print('Dividing 6 / 4 = ' + str(calculator(6,4,'divide')))"
      ],
      "metadata": {
        "colab": {
          "base_uri": "https://localhost:8080/"
        },
        "id": "Ju2SfothKcML",
        "outputId": "d15fe725-c635-441e-ad4f-5929d37762e6"
      },
      "execution_count": null,
      "outputs": [
        {
          "output_type": "stream",
          "name": "stdout",
          "text": [
            "Adding 6 + 4 = 10.0\n",
            "Subtracting 6 - 4 = 2.0\n",
            "Dividing 6 / 4 = Invalid operation please specify ADD or SUBTRACT\n"
          ]
        }
      ]
    },
    {
      "cell_type": "code",
      "source": [
        "from datetime import datetime\n",
        "\n",
        "# What if we want different messages displayed?\n",
        "# Can we still use a function?\n",
        "first_name = 'Susan'\n",
        "print('first name assigned')\n",
        "print(datetime.now())\n",
        "print() \n",
        "\n",
        "for x in range(0,10):\n",
        "\tprint(x)\n",
        "print('loop completed')\n",
        "print(datetime.now())\n",
        "print()"
      ],
      "metadata": {
        "id": "O-o-MRUKSK8y",
        "outputId": "25d18e32-f1ec-4d02-aea0-ba91fae77c95",
        "colab": {
          "base_uri": "https://localhost:8080/"
        }
      },
      "execution_count": null,
      "outputs": [
        {
          "output_type": "stream",
          "name": "stdout",
          "text": [
            "first name assigned\n",
            "2022-12-25 17:16:01.348263\n",
            "\n",
            "0\n",
            "1\n",
            "2\n",
            "3\n",
            "4\n",
            "5\n",
            "6\n",
            "7\n",
            "8\n",
            "9\n",
            "loop completed\n",
            "2022-12-25 17:16:01.350046\n",
            "\n"
          ]
        }
      ]
    },
    {
      "cell_type": "markdown",
      "source": [
        "## **14 - Function parameters**"
      ],
      "metadata": {
        "id": "3X1Obd6_Oftn"
      }
    },
    {
      "cell_type": "code",
      "source": [
        "# This function will take a name and return the \n",
        "# Create a function to return the first initial of a name\n",
        "# Parameters:\n",
        "#   name: name of person\n",
        "# Return value\n",
        "#   first letter of name passed in\n",
        "def get_initial(name):\n",
        "    initial = name[0:1].upper()\n",
        "    return initial\n",
        "\n",
        "# Ask for someone's name and return the initials\n",
        "first_name = input('Enter your first name: ')\n",
        "\n",
        "# Call get_initial function to retrieve first letter of name\n",
        "first_name_initial = get_initial(first_name)\n",
        "\n",
        "print('Your initial is: ' + first_name_initial)"
      ],
      "metadata": {
        "colab": {
          "base_uri": "https://localhost:8080/"
        },
        "id": "MZZ4jKZxPlal",
        "outputId": "3dc2bd76-dd53-424d-d04c-d6cb0f274120"
      },
      "execution_count": 2,
      "outputs": [
        {
          "output_type": "stream",
          "name": "stdout",
          "text": [
            "Enter your first name: Fernanda\n",
            "Your initial is: F\n"
          ]
        }
      ]
    },
    {
      "cell_type": "code",
      "source": [
        "# Create a function to return the first initial of a name\n",
        "# Parameters:\n",
        "#   name: name of person\n",
        "#   force_uppercase: indicates if you always want the initial to be in upppercase: default is True\n",
        "# Return value\n",
        "#   first letter of name passed in\n",
        "def get_initial(name, force_uppercase=True):\n",
        "    if force_uppercase:\n",
        "        initial = name[0:1].upper()\n",
        "    else:\n",
        "        initial = name[0:1]\n",
        "    return initial\n",
        "\n",
        "# Ask for someone's name and return the initial\n",
        "first_name = input('Enter your first name: ')\n",
        "\n",
        "# Call get_initial function to retrieve first letter of name\n",
        "# not passing a value for force_uppercase so default value is used\n",
        "first_name_initial = get_initial(first_name) \n",
        "\n",
        "print('Your initial is: ' + first_name_initial)"
      ],
      "metadata": {
        "colab": {
          "base_uri": "https://localhost:8080/"
        },
        "id": "_NKxsa55b_j-",
        "outputId": "429422be-97a0-418d-98d8-85a37695e48e"
      },
      "execution_count": 3,
      "outputs": [
        {
          "output_type": "stream",
          "name": "stdout",
          "text": [
            "Enter your first name: Fernanda\n",
            "Your initial is: F\n"
          ]
        }
      ]
    },
    {
      "cell_type": "markdown",
      "source": [
        "## **15 - Packages**"
      ],
      "metadata": {
        "id": "Z43jlH4ZcNCf"
      }
    },
    {
      "cell_type": "markdown",
      "source": [
        "[Modules](https://docs.python.org/3/tutorial/modules.html) allow you to store reusable blocks of code, such as functions, in separate files. They're referenced by using the `import` statement."
      ],
      "metadata": {
        "id": "xX4kix4je9mT"
      }
    },
    {
      "cell_type": "code",
      "source": [
        "import pandas as pd"
      ],
      "metadata": {
        "id": "MlnBqR2BcVRK"
      },
      "execution_count": 17,
      "outputs": []
    },
    {
      "cell_type": "code",
      "source": [
        "data = {'País': ['Bélgica', 'Índia', 'Brasil'],\n",
        "        'Capital': ['Bruxelas', 'Nova Delhi', 'Brasília'],\n",
        "        'População': [123465, 456789, 987654]}"
      ],
      "metadata": {
        "id": "AIf2Vnk3p82W"
      },
      "execution_count": 18,
      "outputs": []
    },
    {
      "cell_type": "code",
      "source": [
        "df = pd.DataFrame(data, columns=['País','Capital','População'])"
      ],
      "metadata": {
        "id": "9a14ShaiqG9E"
      },
      "execution_count": 19,
      "outputs": []
    },
    {
      "cell_type": "markdown",
      "source": [
        "## **16 - Calling APIs**"
      ],
      "metadata": {
        "id": "idi9zwZPqvsk"
      }
    },
    {
      "cell_type": "code",
      "source": [
        "# This code will show you how to call the Computer Vision API from Python\n",
        "# You can find documentation on the Computer Vision Analyze Image method here\n",
        "# https://westus.dev.cognitive.microsoft.com/docs/services/5adf991815e1060e6355ad44/operations/56f91f2e778daf14a499e1fa\n",
        "\n",
        "# Use the requests library to simplify making a REST API call from Python \n",
        "import requests\n",
        "\n",
        "# We will need the json library to read the data passed back \n",
        "# by the web service\n",
        "import json\n",
        "\n",
        "# You need to update the SUBSCRIPTION_KEY to \n",
        "# they key for your Computer Vision Service\n",
        "SUBSCRIPTION_KEY = \"xxxxxxxxxxxxxxxxxxxxxxxxxxx\"\n",
        "\n",
        "# You need to update the vision_service_address to the address of\n",
        "# your Computer Vision Service\n",
        "vision_service_address = \"https://canadacentral.api.cognitive.microsoft.com/vision/v2.0/\"\n",
        "\n",
        "# Add the name of the function you want to call to the address\n",
        "address = vision_service_address + \"analyze\"\n",
        "\n",
        "# According to the documentation for the analyze image function \n",
        "# There are three optional parameters: language, details & visualFeatures\n",
        "parameters  = {'visualFeatures':'Description,Color',\n",
        "               'language':'en'}\n",
        "\n",
        "# Open the image file to get a file object containing the image to analyze\n",
        "image_path = \"./TestImages/PolarBear.jpg\"\n",
        "image_data = open(image_path, \"rb\").read()\n",
        "\n",
        "# According to the documentation for the analyze image function\n",
        "# we need to specify the subscription key and the content type\n",
        "# in the HTTP header. Content-Type is application/octet-stream when you pass in a image directly\n",
        "headers    = {'Content-Type': 'application/octet-stream',\n",
        "              'Ocp-Apim-Subscription-Key': SUBSCRIPTION_KEY}\n",
        "\n",
        "# According to the documentation for the analyze image function\n",
        "# we use HTTP POST to call this function\n",
        "response = requests.post(address, headers=headers, params=parameters, data=image_data)\n",
        "\n",
        "# Raise an exception if the call returns an error code\n",
        "response.raise_for_status()\n",
        "\n",
        "# Display the JSON results returned\n",
        "results = response.json()\n",
        "print(json.dumps(results))"
      ],
      "metadata": {
        "id": "Qf_1mXZC9A5t"
      },
      "execution_count": null,
      "outputs": []
    },
    {
      "cell_type": "markdown",
      "source": [
        "## **JavaScript Object Notation (JSON)**"
      ],
      "metadata": {
        "id": "1Exfy9DeD87Q"
      }
    },
    {
      "cell_type": "code",
      "source": [
        "import requests\n",
        "\n",
        "requisicao = requests.get(\"https://economia.awesomeapi.com.br/last/USD-BRL,EUR-BRL,BTC-BRL\")\n",
        "print(requisicao)\n",
        "print(requisicao.json())"
      ],
      "metadata": {
        "colab": {
          "base_uri": "https://localhost:8080/"
        },
        "id": "wop_UxNxR89l",
        "outputId": "b359ab56-9b0c-4b7e-e3fa-a12be1fb5d02"
      },
      "execution_count": 6,
      "outputs": [
        {
          "output_type": "stream",
          "name": "stdout",
          "text": [
            "<Response [200]>\n",
            "{'USDBRL': {'code': 'USD', 'codein': 'BRL', 'name': 'Dólar Americano/Real Brasileiro', 'high': '5.2206', 'low': '5.1572', 'varBid': '0.0537', 'pctChange': '1.04', 'bid': '5.2186', 'ask': '5.2193', 'timestamp': '1672089336', 'create_date': '2022-12-26 18:15:36'}, 'EURBRL': {'code': 'EUR', 'codein': 'BRL', 'name': 'Euro/Real Brasileiro', 'high': '5.5514', 'low': '5.479', 'varBid': '0.0686', 'pctChange': '1.25', 'bid': '5.5495', 'ask': '5.5523', 'timestamp': '1672089336', 'create_date': '2022-12-26 18:15:36'}, 'BTCBRL': {'code': 'BTC', 'codein': 'BRL', 'name': 'Bitcoin/Real Brasileiro', 'high': '88.344', 'low': '86.977', 'varBid': '1188', 'pctChange': '1.36', 'bid': '88.254', 'ask': '88.279', 'timestamp': '1672089308', 'create_date': '2022-12-26 18:15:08'}}\n"
          ]
        }
      ]
    },
    {
      "cell_type": "code",
      "source": [
        "dic_requisicao = requisicao.json()\n",
        "print(dic_requisicao['USDBRL']['bid'])"
      ],
      "metadata": {
        "colab": {
          "base_uri": "https://localhost:8080/"
        },
        "id": "x8qaybs6S7ri",
        "outputId": "2571537a-64ee-4a69-be7b-e3e21490a480"
      },
      "execution_count": 8,
      "outputs": [
        {
          "output_type": "stream",
          "name": "stdout",
          "text": [
            "5.2186\n"
          ]
        }
      ]
    },
    {
      "cell_type": "code",
      "source": [
        "resquests.post(\"link\", data={}) #envio de arquivos jsons para APIs."
      ],
      "metadata": {
        "id": "w4MQAjVpT6h-"
      },
      "execution_count": null,
      "outputs": []
    },
    {
      "cell_type": "markdown",
      "source": [
        "## **Decorators**"
      ],
      "metadata": {
        "id": "6UCLzZHqUVEX"
      }
    },
    {
      "cell_type": "markdown",
      "source": [
        "[Decorators](https://www.python.org/dev/peps/pep-0318/) are similar to attributes in that they add meaning or functionality to blocks of code in Python. They're frequently used in frameworks such as [Flask](http://flask.pocoo.org/) or [Django](https://www.djangoproject.com/). The most common interaction you'll have with decorators as a Python developer is through using them rather than creating them."
      ],
      "metadata": {
        "id": "CDempNJmlK41"
      }
    },
    {
      "cell_type": "code",
      "source": [
        "from flask import Flask\n",
        "\n",
        "app = Flask(__name__)\n",
        "\n",
        "@app.route('/home')\n",
        "def homepage():\n",
        "    return 'Essa é minha HomePage'\n",
        "\n",
        "@app.route('/contatos')\n",
        "def contatos():\n",
        "    return \"Esses são os meus contatos\"\n",
        "\n",
        "app.run()"
      ],
      "metadata": {
        "colab": {
          "base_uri": "https://localhost:8080/"
        },
        "id": "nqeTsvwHw7xD",
        "outputId": "6027f6af-03d0-449d-e70f-0705a6e91c62"
      },
      "execution_count": 12,
      "outputs": [
        {
          "output_type": "stream",
          "name": "stdout",
          "text": [
            " * Serving Flask app \"__main__\" (lazy loading)\n",
            " * Environment: production\n",
            "\u001b[31m   WARNING: This is a development server. Do not use it in a production deployment.\u001b[0m\n",
            "\u001b[2m   Use a production WSGI server instead.\u001b[0m\n",
            " * Debug mode: off\n"
          ]
        },
        {
          "output_type": "stream",
          "name": "stderr",
          "text": [
            "INFO:werkzeug: * Running on http://127.0.0.1:5000/ (Press CTRL+C to quit)\n"
          ]
        }
      ]
    }
  ]
}